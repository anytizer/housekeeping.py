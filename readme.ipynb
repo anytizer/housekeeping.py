{
 "cells": [
  {
   "cell_type": "markdown",
   "metadata": {},
   "source": [
    "# Project Structure : Housekeeping.py"
   ]
  },
  {
   "cell_type": "markdown",
   "metadata": {},
   "source": [
    "## Directorory Structure:"
   ]
  },
  {
   "cell_type": "markdown",
   "metadata": {},
   "source": [
    "```\n",
    "+ sqlite\n",
    "+ sqls\n",
    "+ static\n",
    "+ -- static\\css\n",
    "+ -- static\\html\n",
    "+ -- static\\images\n",
    "+ -- static\\js\n",
    "+ -- -- static\\js\\angularjs\n",
    "+ -- -- static\\js\\ui-router\n",
    "+ templates\n",
    "```"
   ]
  },
  {
   "cell_type": "markdown",
   "metadata": {},
   "source": [
    "## Requirements.txt\n",
    "```\n",
    "numpy==1.17.2\n",
    "pandas==0.25.1\n",
    "Flask==1.1.1\n",
    "```"
   ]
  },
  {
   "cell_type": "markdown",
   "metadata": {},
   "source": [
    "## ToDo:\n",
    "* Rename `missing` to forgotten\n",
    "* Config mode turn off/on admin features\n",
    "* Route robots, favicon, images\n",
    "* Full associate profile\n",
    "* From amenities to data entry page with pre-selection.\n",
    "* COLLATE NOCASE\n",
    "* Safari: HTML5 DataList support, Select box stylizing.\n",
    "* Select box stylizing in Safari.\n",
    "* Add hours worked by an associate - to calculate efficiency in a period.\n",
    "* Group By data using angularJS Filter\n",
    "* Search by date\n",
    "* Amenities cases count should be limited to recent dates\n",
    "* https://embed.plnkr.co/plunk/gZhSIa\n",
    "* Multi user graph generation\n",
    "* Include graphs in reports pages.\n",
    "* Missing stuffs zero, ANC zero: Do not plot in graph.\n",
    "* Fix xlabel, ylabel in the graph\n",
    "* Add requirements.txt \n",
    "\n",
    "#### Not doing:\n",
    "* ~Include datalist of available Room Numbers~\n",
    "  * _The list will be too big, not useful for now_\n",
    "* ~Enable wrong entries fixation for upto 2 days~\n",
    "  * _currently matches current date only_\n",
    "  * _look into details for date like string manipulation in SQLite_\n",
    "* ~Respond with appropriate JS/CSS/HTML content types when using static.~\n",
    "  * _Code will be bulky. Currently working even without specifying_\n",
    "  * _Current tested browsers supported : ~`Safari`~, `Chrome 77`, `Firefox 69`, `Opera 63`_\n"
   ]
  },
  {
   "cell_type": "code",
   "execution_count": null,
   "metadata": {},
   "outputs": [],
   "source": []
  }
 ],
 "metadata": {
  "kernelspec": {
   "display_name": "Python 3",
   "language": "python",
   "name": "python3"
  },
  "language_info": {
   "codemirror_mode": {
    "name": "ipython",
    "version": 3
   },
   "file_extension": ".py",
   "mimetype": "text/x-python",
   "name": "python",
   "nbconvert_exporter": "python",
   "pygments_lexer": "ipython3",
   "version": "3.7.4"
  }
 },
 "nbformat": 4,
 "nbformat_minor": 2
}
