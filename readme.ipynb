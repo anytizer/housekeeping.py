{
 "cells": [
  {
   "cell_type": "markdown",
   "metadata": {},
   "source": [
    "# Project Structure : Housekeeping.py"
   ]
  },
  {
   "cell_type": "markdown",
   "metadata": {},
   "source": [
    "## Directorory Structure:\n",
    "\n",
    "```\n",
    "+-- _config.yml  \n",
    "+-- _drafts  \n",
    "|   +-- begin-with-the-crazy-ideas.textile  \n",
    "|   +-- on-simplicity-in-technology.markdown  \n",
    "+-- _includes  \n",
    "|   +-- footer.html  \n",
    "|   +-- header.html  \n",
    "+-- _layouts  \n",
    "|   +-- default.html  \n",
    "|   +-- post.html  \n",
    "+-- _posts  \n",
    "|   +-- 2007-10-29-why-every-programmer-should-play-nethack.textile  \n",
    "|   +-- 2009-04-26-barcamp-boston-4-roundup.textile  \n",
    "+-- _data  \n",
    "|   +-- members.yml  \n",
    "+-- _site  \n",
    "+-- index.html  \n",
    "```\n"
   ]
  },
  {
   "cell_type": "markdown",
   "metadata": {},
   "source": [
    "```\n",
    "-- \n",
    "-- screenshots\n",
    "-- sqlite\n",
    "-- sqls\n",
    "-- static\n",
    "-- -- static\\css\n",
    "-- -- static\\html\n",
    "-- -- static\\images\n",
    "-- -- static\\js\n",
    "-- -- -- static\\js\\angularjs\n",
    "-- -- -- static\\js\\ui-router\n",
    "-- templates\n",
    "-- tests\n",
    "-- vendor\n",
    "-- vendor\\anytizer\n",
    "-- vendor\\anytizer\\relay.php\n",
    "-- vendor\\anytizer\\relay.php\\examples\n",
    "-- vendor\\anytizer\\relay.php\\phpunit\n",
    "-- vendor\\anytizer\\relay.php\\phpunit\\tests\n",
    "-- vendor\\anytizer\\relay.php\\phpunit\\tests.cancelled\n",
    "-- vendor\\anytizer\\relay.php\\src\n",
    "-- vendor\\anytizer\\relay.php\\src\\anytizer\n",
    "-- vendor\\anytizer\\relay.php\\tests.remote\n",
    "-- vendor\\anytizer\\relay.php\\web\n",
    "-- vendor\\composer\n",
    "```"
   ]
  },
  {
   "cell_type": "markdown",
   "metadata": {},
   "source": [
    "## Requirements.txt\n",
    "# cat requirements.txt \n",
    "ordereddict==1.1\n",
    "argparse==1.2.1\n",
    "python-dateutil==2.2\n",
    "matplotlib==1.3.1\n",
    "nose==1.3.0\n",
    "numpy==1.8.0\n",
    "pymongo==3.3.0\n",
    "psutil>=2.0\n",
    "    "
   ]
  },
  {
   "cell_type": "markdown",
   "metadata": {},
   "source": [
    "## ToDo:\n",
    "* Rename `missing` to forgotten\n",
    "* Config mode turn off/on admin features\n",
    "* Route robots, favicon, images\n",
    "* Full associate profile\n",
    "* From amenities to data entry page with pre-selection.\n",
    "* COLLATE NOCASE\n",
    "* Safari: HTML5 DataList support, Select box stylizing.\n",
    "* Select box stylizing in Safari.\n",
    "* Add hours worked by an associate - to calculate efficiency in a period.\n",
    "* Group By data using angularJS Filter\n",
    "* Search by date\n",
    "* Amenities cases count should be limited to recent dates\n",
    "* https://embed.plnkr.co/plunk/gZhSIa\n",
    "* Multi user graph generation\n",
    "* Include graphs in reports pages.\n",
    "* Missing stuffs zero, ANC zero: Do not plot in graph.\n",
    "* Fix xlabel, ylabel in the graph\n",
    "* Add requirements.txt \n",
    "\n",
    "#### Not doing:\n",
    "* Include datalist of available Room Numbers\n",
    "* Enable wrong entries fixation for upto 2 days\n",
    "* Respond with appropriate JS/CSS/HTML content types when using static.\n",
    "* Include datalist of Room Numbers\n"
   ]
  },
  {
   "cell_type": "code",
   "execution_count": null,
   "metadata": {},
   "outputs": [],
   "source": []
  }
 ],
 "metadata": {
  "kernelspec": {
   "display_name": "Python 3",
   "language": "python",
   "name": "python3"
  },
  "language_info": {
   "codemirror_mode": {
    "name": "ipython",
    "version": 3
   },
   "file_extension": ".py",
   "mimetype": "text/x-python",
   "name": "python",
   "nbconvert_exporter": "python",
   "pygments_lexer": "ipython3",
   "version": "3.7.4"
  }
 },
 "nbformat": 4,
 "nbformat_minor": 2
}
